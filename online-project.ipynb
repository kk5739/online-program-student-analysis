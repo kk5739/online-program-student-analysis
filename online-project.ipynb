{
 "cells": [
  {
   "cell_type": "markdown",
   "metadata": {},
   "source": [
    "This is for loading dataframe"
   ]
  },
  {
   "cell_type": "code",
   "execution_count": null,
   "metadata": {},
   "outputs": [
    {
     "data": {
      "text/plain": [
       "(58, 6)"
      ]
     },
     "execution_count": 59,
     "metadata": {},
     "output_type": "execute_result"
    }
   ],
   "source": [
    "import pandas as pd\n",
    "\n",
    "# Load the Excel file and extract sheet names\n",
    "excel_path = \"/Users/kangkyeongmo/Desktop/Work/NYU_OUE/online_project/List of Online Graduate Programs.xlsx\"\n",
    "xls = pd.ExcelFile(excel_path)\n",
    "sheet_names = xls.sheet_names\n",
    "\n",
    "# Load Sheet 2 (index 1): Online Program Code\n",
    "Online_Program_df = pd.read_excel(xls, sheet_name=sheet_names[1])\n",
    "Online_Program_df.shape"
   ]
  },
  {
   "cell_type": "code",
   "execution_count": 67,
   "metadata": {},
   "outputs": [],
   "source": [
    "# Rename the join key column for consistency\n",
    "Online_Program_df = Online_Program_df.rename(columns={\n",
    "    'albert_plan_code_(acad_plan)': 'acad_plan'\n",
    "})"
   ]
  },
  {
   "cell_type": "code",
   "execution_count": 289,
   "metadata": {},
   "outputs": [
    {
     "data": {
      "text/plain": [
       "(24148, 53)"
      ]
     },
     "execution_count": 289,
     "metadata": {},
     "output_type": "execute_result"
    }
   ],
   "source": [
    "# Load the eligible student Excel file\n",
    "st_excel_path = \"/Users/kangkyeongmo/Desktop/Work/NYU_OUE/online_project/Data/CM24/CM24 Registrar's Commencement Data.xlsx\"\n",
    "st_xls = pd.ExcelFile(st_excel_path)\n",
    "sheet_names = st_xls.sheet_names\n",
    "\n",
    "# Load Student List change the df name e.g.GR23, GR24, GR25\n",
    "GR24_df = pd.read_excel(st_xls, sheet_name=sheet_names[1])\n",
    "\n",
    "GR24_df.shape"
   ]
  },
  {
   "cell_type": "code",
   "execution_count": 288,
   "metadata": {},
   "outputs": [
    {
     "data": {
      "text/plain": [
       "(38362, 16)"
      ]
     },
     "execution_count": 288,
     "metadata": {},
     "output_type": "execute_result"
    }
   ],
   "source": [
    "# Load the scanned tickets Excel file\n",
    "sc_excel_path = \"/Users/kangkyeongmo/Desktop/Work/NYU_OUE/online_project/Data/CM24/CM24 Venue Ticket Scan Report as of 5-20-24 copy.xlsx\"\n",
    "sc_xls = pd.ExcelFile(sc_excel_path)\n",
    "sheet_names = sc_xls.sheet_names\n",
    "\n",
    "# Load Student List change the df name e.g.TIX23, TIX24, TIX25\n",
    "TIX24_df = pd.read_excel(sc_xls, sheet_name=sheet_names[0])\n",
    "\n",
    "TIX24_df.shape\n"
   ]
  },
  {
   "cell_type": "code",
   "execution_count": 290,
   "metadata": {},
   "outputs": [],
   "source": [
    "# Standardize column names: lowercase + replace spaces with underscores\n",
    "Online_Program_df.columns = Online_Program_df.columns.str.strip().str.lower().str.replace(' ', '_')\n",
    "GR24_df.columns = GR24_df.columns.str.strip().str.lower().str.replace(' ', '_')\n",
    "TIX24_df.columns = TIX24_df.columns.str.strip().str.lower().str.replace(' ', '_')"
   ]
  },
  {
   "cell_type": "code",
   "execution_count": 291,
   "metadata": {},
   "outputs": [
    {
     "data": {
      "text/html": [
       "<div>\n",
       "<style scoped>\n",
       "    .dataframe tbody tr th:only-of-type {\n",
       "        vertical-align: middle;\n",
       "    }\n",
       "\n",
       "    .dataframe tbody tr th {\n",
       "        vertical-align: top;\n",
       "    }\n",
       "\n",
       "    .dataframe thead th {\n",
       "        text-align: right;\n",
       "    }\n",
       "</style>\n",
       "<table border=\"1\" class=\"dataframe\">\n",
       "  <thead>\n",
       "    <tr style=\"text-align: right;\">\n",
       "      <th></th>\n",
       "      <th>event_name</th>\n",
       "      <th>venue_attendee_name</th>\n",
       "      <th>attendee_email</th>\n",
       "      <th>venue_scan_location</th>\n",
       "      <th>venue_scan_time</th>\n",
       "      <th>invitee_name</th>\n",
       "      <th>invitee_email</th>\n",
       "      <th>employee_id</th>\n",
       "      <th>school</th>\n",
       "      <th>acad_plan</th>\n",
       "      <th>degree</th>\n",
       "      <th>assignment</th>\n",
       "      <th>customer_id</th>\n",
       "      <th>order_id</th>\n",
       "      <th>ticket_notes</th>\n",
       "      <th>order_status</th>\n",
       "    </tr>\n",
       "  </thead>\n",
       "  <tbody>\n",
       "    <tr>\n",
       "      <th>0</th>\n",
       "      <td>Commencement 2024</td>\n",
       "      <td>NaN</td>\n",
       "      <td>NaN</td>\n",
       "      <td>NaN</td>\n",
       "      <td>NaN</td>\n",
       "      <td>Abhishek Dixit</td>\n",
       "      <td>ad6610@stern.nyu.edu</td>\n",
       "      <td>NaN</td>\n",
       "      <td>NaN</td>\n",
       "      <td>NaN</td>\n",
       "      <td>NaN</td>\n",
       "      <td>Candidate</td>\n",
       "      <td>NaN</td>\n",
       "      <td>5447276</td>\n",
       "      <td>GATE 4</td>\n",
       "      <td>Approved</td>\n",
       "    </tr>\n",
       "    <tr>\n",
       "      <th>1</th>\n",
       "      <td>Commencement 2024</td>\n",
       "      <td>Andrew Zhang</td>\n",
       "      <td>az1869@stern.nyu.edu</td>\n",
       "      <td>G8 TOWER 57</td>\n",
       "      <td>2024-05-15 12:04:00</td>\n",
       "      <td>Andrew Zhang</td>\n",
       "      <td>az1869@stern.nyu.edu</td>\n",
       "      <td>NaN</td>\n",
       "      <td>NaN</td>\n",
       "      <td>NaN</td>\n",
       "      <td>NaN</td>\n",
       "      <td>Candidate</td>\n",
       "      <td>NaN</td>\n",
       "      <td>5447277</td>\n",
       "      <td>GATE 4</td>\n",
       "      <td>Approved</td>\n",
       "    </tr>\n",
       "    <tr>\n",
       "      <th>2</th>\n",
       "      <td>Commencement 2024</td>\n",
       "      <td>Forrest Lin</td>\n",
       "      <td>fl2094@nyu.edu</td>\n",
       "      <td>STE HH S04</td>\n",
       "      <td>2024-05-15 11:52:00</td>\n",
       "      <td>Boxuan Han</td>\n",
       "      <td>bh2761@stern.nyu.edu</td>\n",
       "      <td>NaN</td>\n",
       "      <td>NaN</td>\n",
       "      <td>NaN</td>\n",
       "      <td>NaN</td>\n",
       "      <td>Candidate</td>\n",
       "      <td>NaN</td>\n",
       "      <td>5447278</td>\n",
       "      <td>GATE 4</td>\n",
       "      <td>Approved</td>\n",
       "    </tr>\n",
       "    <tr>\n",
       "      <th>3</th>\n",
       "      <td>Commencement 2024</td>\n",
       "      <td>Dionna Rivers</td>\n",
       "      <td>Dcr309@stern.nyu.edu</td>\n",
       "      <td>G4 HH S05</td>\n",
       "      <td>2024-05-15 11:58:00</td>\n",
       "      <td>Dionna Rivers</td>\n",
       "      <td>dcr309@stern.nyu.edu</td>\n",
       "      <td>NaN</td>\n",
       "      <td>NaN</td>\n",
       "      <td>NaN</td>\n",
       "      <td>NaN</td>\n",
       "      <td>Candidate</td>\n",
       "      <td>NaN</td>\n",
       "      <td>5447279</td>\n",
       "      <td>GATE 4</td>\n",
       "      <td>Approved</td>\n",
       "    </tr>\n",
       "    <tr>\n",
       "      <th>4</th>\n",
       "      <td>Commencement 2024</td>\n",
       "      <td>Sibyl Chen</td>\n",
       "      <td>ontistudsibyl@gmail.com</td>\n",
       "      <td>G4 HH S05</td>\n",
       "      <td>2024-05-15 11:23:00</td>\n",
       "      <td>Jiaqi Chen</td>\n",
       "      <td>jc10670@stern.nyu.edu</td>\n",
       "      <td>NaN</td>\n",
       "      <td>NaN</td>\n",
       "      <td>NaN</td>\n",
       "      <td>NaN</td>\n",
       "      <td>Candidate</td>\n",
       "      <td>NaN</td>\n",
       "      <td>5447280</td>\n",
       "      <td>GATE 4</td>\n",
       "      <td>Approved</td>\n",
       "    </tr>\n",
       "  </tbody>\n",
       "</table>\n",
       "</div>"
      ],
      "text/plain": [
       "          event_name venue_attendee_name           attendee_email  \\\n",
       "0  Commencement 2024                 NaN                      NaN   \n",
       "1  Commencement 2024        Andrew Zhang     az1869@stern.nyu.edu   \n",
       "2  Commencement 2024         Forrest Lin           fl2094@nyu.edu   \n",
       "3  Commencement 2024       Dionna Rivers     Dcr309@stern.nyu.edu   \n",
       "4  Commencement 2024          Sibyl Chen  ontistudsibyl@gmail.com   \n",
       "\n",
       "  venue_scan_location      venue_scan_time    invitee_name  \\\n",
       "0                 NaN                  NaN  Abhishek Dixit   \n",
       "1         G8 TOWER 57  2024-05-15 12:04:00    Andrew Zhang   \n",
       "2          STE HH S04  2024-05-15 11:52:00      Boxuan Han   \n",
       "3           G4 HH S05  2024-05-15 11:58:00   Dionna Rivers   \n",
       "4           G4 HH S05  2024-05-15 11:23:00      Jiaqi Chen   \n",
       "\n",
       "           invitee_email employee_id school acad_plan degree assignment  \\\n",
       "0   ad6610@stern.nyu.edu         NaN    NaN       NaN    NaN  Candidate   \n",
       "1   az1869@stern.nyu.edu         NaN    NaN       NaN    NaN  Candidate   \n",
       "2   bh2761@stern.nyu.edu         NaN    NaN       NaN    NaN  Candidate   \n",
       "3   dcr309@stern.nyu.edu         NaN    NaN       NaN    NaN  Candidate   \n",
       "4  jc10670@stern.nyu.edu         NaN    NaN       NaN    NaN  Candidate   \n",
       "\n",
       "  customer_id  order_id ticket_notes order_status  \n",
       "0         NaN   5447276       GATE 4     Approved  \n",
       "1         NaN   5447277       GATE 4     Approved  \n",
       "2         NaN   5447278       GATE 4     Approved  \n",
       "3         NaN   5447279       GATE 4     Approved  \n",
       "4         NaN   5447280       GATE 4     Approved  "
      ]
     },
     "execution_count": 291,
     "metadata": {},
     "output_type": "execute_result"
    }
   ],
   "source": [
    "TIX24_df.head()"
   ]
  },
  {
   "cell_type": "markdown",
   "metadata": {},
   "source": [
    "Number of total online programs"
   ]
  },
  {
   "cell_type": "code",
   "execution_count": 75,
   "metadata": {},
   "outputs": [
    {
     "data": {
      "text/plain": [
       "0       GCHRMDMS\n",
       "1       GCMASYMS\n",
       "2       GCPRWRMS\n",
       "3       GCTRSCMS\n",
       "4       GCTRXCMS\n",
       "5       GCPRMOMS\n",
       "6       GCGLSOMS\n",
       "7       GCHCATMS\n",
       "8       GCECOCMS\n",
       "9       GCHOSPMS\n",
       "10      GCTUMGMS\n",
       "11      GCTRVMMS\n",
       "12      GCGSCCMS\n",
       "13      GCHINTMS\n",
       "14      GCEVMGMS\n",
       "15      UCCOTOBS\n",
       "16      UCLMSOBS\n",
       "17      UCSOCOBA\n",
       "18     GUYUMPMPH\n",
       "19    GUCCPHMPH \n",
       "20     GUUMPHMPH\n",
       "21      GAAMJOMA\n",
       "22     LWEXPTLLM\n",
       "23     LWTAPTLLM\n",
       "24     LWTAXNLLM\n",
       "25     LWTAXNMSL\n",
       "26      GYBINFMS\n",
       "27      GYCPENMS\n",
       "28      GYCYBSMS\n",
       "29      GYELENMS\n",
       "30      GYINENMS\n",
       "31      GYMGTEMS\n",
       "32      GYMAENMS\n",
       "33      GYORGBMS\n",
       "34      GYIDMEMS\n",
       "35      GYISIEME\n",
       "36      GTPRODMA\n",
       "37     GPHEADMHA\n",
       "38     GACREAMFA\n",
       "39    GBGMMBMBAP\n",
       "40     GBBUSNMBA\n",
       "41      LYCYBRMS\n",
       "42      LWHLWSMS\n",
       "43     GSFRHYMSW\n",
       "44     GEYCNGUMA\n",
       "45      GECNGUMA\n",
       "46     GEYEMTMAT\n",
       "47     GEYICEMAT\n",
       "48      GEYCSDMS\n",
       "49      GECSDMMS\n",
       "50    GEYOTHSOTD\n",
       "51     GEYOTHOTD\n",
       "52     GEYCMHMA \n",
       "53     GECMHWWMA\n",
       "54     GEYLINEDD\n",
       "55      GEYDMLMA\n",
       "56      GBQTMGMS\n",
       "57      GCFNPOMS\n",
       "Name: acad_plan, dtype: object"
      ]
     },
     "execution_count": 75,
     "metadata": {},
     "output_type": "execute_result"
    }
   ],
   "source": [
    "# How many online program we have? \n",
    "Online_Program_df['acad_plan'].head(60)"
   ]
  },
  {
   "cell_type": "markdown",
   "metadata": {},
   "source": [
    "Number of students in the online program"
   ]
  },
  {
   "cell_type": "code",
   "execution_count": 293,
   "metadata": {},
   "outputs": [
    {
     "data": {
      "text/plain": [
       "(23217, 14)"
      ]
     },
     "execution_count": 293,
     "metadata": {},
     "output_type": "execute_result"
    }
   ],
   "source": [
    "######################### FIX\n",
    "# Load the scanned tickets Excel file\n",
    "r_excel_path = \"/Users/kangkyeongmo/Desktop/Work/NYU_OUE/online_project/Data/CM24/CM24 Data for Ticketmanager User Profiles as of 5-17-24 copy.xlsx\"\n",
    "r_xls = pd.ExcelFile(r_excel_path)\n",
    "sheet_names = r_xls.sheet_names\n",
    "\n",
    "# Load Student List \n",
    "Tman24_df = pd.read_excel(r_xls, sheet_name=sheet_names[0])\n",
    "\n",
    "Tman24_df.shape"
   ]
  },
  {
   "cell_type": "code",
   "execution_count": 295,
   "metadata": {},
   "outputs": [
    {
     "data": {
      "text/plain": [
       "21054"
      ]
     },
     "execution_count": 295,
     "metadata": {},
     "output_type": "execute_result"
    }
   ],
   "source": [
    "unique_Tman24_df = Tman24_df.drop_duplicates(subset='employee_id', keep='last')\n",
    "\n",
    "# How many stdudents no dup\n",
    "len(unique_Tman24_df)"
   ]
  },
  {
   "cell_type": "code",
   "execution_count": 296,
   "metadata": {},
   "outputs": [
    {
     "data": {
      "text/plain": [
       "19293"
      ]
     },
     "execution_count": 296,
     "metadata": {},
     "output_type": "execute_result"
    }
   ],
   "source": [
    "# Only 'A' in change_type for CM25 \n",
    "unique_Tman24_df = unique_Tman24_df[unique_Tman24_df['change_type'] == 'A']\n",
    "\n",
    "len(unique_Tman24_df)"
   ]
  },
  {
   "cell_type": "code",
   "execution_count": 297,
   "metadata": {},
   "outputs": [],
   "source": [
    "unique_Tman24_df.columns = unique_Tman24_df.columns.str.strip().str.lower().str.replace(' ', '_')"
   ]
  },
  {
   "cell_type": "code",
   "execution_count": 298,
   "metadata": {},
   "outputs": [
    {
     "data": {
      "text/plain": [
       "23856"
      ]
     },
     "execution_count": 298,
     "metadata": {},
     "output_type": "execute_result"
    }
   ],
   "source": [
    "# Remove duplicated students \n",
    "# employee_id for CM25\n",
    "# campus_id for CM23\n",
    "\n",
    "unique_GR24 = GR24_df.drop_duplicates(subset='campus_id', keep='last')\n",
    "\n",
    "# How many stdudents no dup\n",
    "len(unique_GR24)"
   ]
  },
  {
   "cell_type": "code",
   "execution_count": 299,
   "metadata": {},
   "outputs": [
    {
     "data": {
      "text/plain": [
       "Index(['id', 'campus_id', 'primary_first', 'primary_middle', 'primary_last',\n",
       "       'preferred_first', 'preferred_middle', 'preferred_last', 'exp_grad',\n",
       "       'acad_prog', 'school', 'descr', 'degree', 'descr.1', 'status',\n",
       "       'action_date', 'chkoutstat', 'acad_plan', 'descr.2', 'plan_type',\n",
       "       'hon_code', 'email', 'nyu_netid', 'perm_addr_1', 'perm_addr_2',\n",
       "       'perm_addr_3', 'perm_addr_4', 'perm_city', 'perm_state', 'perm_zip',\n",
       "       'perm_country', 'mail_addr_1', 'mail_addr_2', 'mail_addr_3',\n",
       "       'mail_addr_4', 'mail_city', 'mail_state', 'mail_zip', 'mail_country',\n",
       "       'dipl_addr_1', 'dipl_addr_2', 'dipl_addr_3', 'dipl_addr_4', 'dipl_city',\n",
       "       'dipl_state', 'dipl_zip', 'dipl_country', 'ferpa', 'career',\n",
       "       'acad_prog.1', 'srv_ind_cd', 'max_active_term', 'birthdate'],\n",
       "      dtype='object')"
      ]
     },
     "execution_count": 299,
     "metadata": {},
     "output_type": "execute_result"
    }
   ],
   "source": [
    "unique_GR24.columns"
   ]
  },
  {
   "cell_type": "code",
   "execution_count": 300,
   "metadata": {},
   "outputs": [],
   "source": [
    "final_GR24 = pd.merge(\n",
    "    unique_GR24,\n",
    "    unique_Tman24_df,\n",
    "    left_on='campus_id',\n",
    "    right_on='employee_id',\n",
    "    how='inner'\n",
    ")\n"
   ]
  },
  {
   "cell_type": "code",
   "execution_count": 301,
   "metadata": {},
   "outputs": [
    {
     "data": {
      "text/html": [
       "<div>\n",
       "<style scoped>\n",
       "    .dataframe tbody tr th:only-of-type {\n",
       "        vertical-align: middle;\n",
       "    }\n",
       "\n",
       "    .dataframe tbody tr th {\n",
       "        vertical-align: top;\n",
       "    }\n",
       "\n",
       "    .dataframe thead th {\n",
       "        text-align: right;\n",
       "    }\n",
       "</style>\n",
       "<table border=\"1\" class=\"dataframe\">\n",
       "  <thead>\n",
       "    <tr style=\"text-align: right;\">\n",
       "      <th></th>\n",
       "      <th>id</th>\n",
       "      <th>campus_id</th>\n",
       "      <th>primary_first</th>\n",
       "      <th>primary_middle</th>\n",
       "      <th>primary_last</th>\n",
       "      <th>preferred_first_x</th>\n",
       "      <th>preferred_middle</th>\n",
       "      <th>preferred_last</th>\n",
       "      <th>exp_grad</th>\n",
       "      <th>acad_prog</th>\n",
       "      <th>...</th>\n",
       "      <th>email_y</th>\n",
       "      <th>first_name</th>\n",
       "      <th>last_name</th>\n",
       "      <th>preferred_first_y</th>\n",
       "      <th>department</th>\n",
       "      <th>customer_id</th>\n",
       "      <th>school_y</th>\n",
       "      <th>degree_y</th>\n",
       "      <th>acad_plan_y</th>\n",
       "      <th>region</th>\n",
       "    </tr>\n",
       "  </thead>\n",
       "  <tbody>\n",
       "    <tr>\n",
       "      <th>0</th>\n",
       "      <td>14950531</td>\n",
       "      <td>N13466877</td>\n",
       "      <td>Camila</td>\n",
       "      <td>Michelle</td>\n",
       "      <td>Mancebo</td>\n",
       "      <td>Camila</td>\n",
       "      <td>NaN</td>\n",
       "      <td>Mancebo</td>\n",
       "      <td>1244</td>\n",
       "      <td>UCMAA</td>\n",
       "      <td>...</td>\n",
       "      <td>cmm10051@nyu.edu</td>\n",
       "      <td>Camila</td>\n",
       "      <td>Mancebo</td>\n",
       "      <td>Camila</td>\n",
       "      <td>1244.0</td>\n",
       "      <td>cmm10051</td>\n",
       "      <td>Schl of Prof Studies UG</td>\n",
       "      <td>AA</td>\n",
       "      <td>Liberal Arts</td>\n",
       "      <td>3.0</td>\n",
       "    </tr>\n",
       "    <tr>\n",
       "      <th>1</th>\n",
       "      <td>14790495</td>\n",
       "      <td>N18844886</td>\n",
       "      <td>Emily</td>\n",
       "      <td>NaN</td>\n",
       "      <td>Bustrum</td>\n",
       "      <td>Emily</td>\n",
       "      <td>Paris</td>\n",
       "      <td>Bustrum</td>\n",
       "      <td>1244</td>\n",
       "      <td>UGALL</td>\n",
       "      <td>...</td>\n",
       "      <td>eb4003@nyu.edu</td>\n",
       "      <td>Emily</td>\n",
       "      <td>Bustrum</td>\n",
       "      <td>Emily</td>\n",
       "      <td>1244.0</td>\n",
       "      <td>eb4003</td>\n",
       "      <td>Gallatin Schl of Ind Study UG</td>\n",
       "      <td>BA</td>\n",
       "      <td>Individualized Major</td>\n",
       "      <td>3.0</td>\n",
       "    </tr>\n",
       "    <tr>\n",
       "      <th>2</th>\n",
       "      <td>14978305</td>\n",
       "      <td>N19244018</td>\n",
       "      <td>Io</td>\n",
       "      <td>Marcela</td>\n",
       "      <td>Manfredy Colon</td>\n",
       "      <td>Io Marcela</td>\n",
       "      <td>NaN</td>\n",
       "      <td>Manfredy Colon</td>\n",
       "      <td>1244</td>\n",
       "      <td>UGALL</td>\n",
       "      <td>...</td>\n",
       "      <td>imm7665@nyu.edu</td>\n",
       "      <td>Io</td>\n",
       "      <td>Manfredy Colon</td>\n",
       "      <td>Io Marcela</td>\n",
       "      <td>1244.0</td>\n",
       "      <td>imm7665</td>\n",
       "      <td>Gallatin Schl of Ind Study UG</td>\n",
       "      <td>BA</td>\n",
       "      <td>Individualized Major</td>\n",
       "      <td>3.0</td>\n",
       "    </tr>\n",
       "    <tr>\n",
       "      <th>3</th>\n",
       "      <td>14934014</td>\n",
       "      <td>N14582986</td>\n",
       "      <td>Aidan</td>\n",
       "      <td>Chapman</td>\n",
       "      <td>Mo</td>\n",
       "      <td>Aidan</td>\n",
       "      <td>NaN</td>\n",
       "      <td>Mo</td>\n",
       "      <td>1244</td>\n",
       "      <td>USOCW</td>\n",
       "      <td>...</td>\n",
       "      <td>acm9552@nyu.edu</td>\n",
       "      <td>Aidan</td>\n",
       "      <td>Mo</td>\n",
       "      <td>Aidan</td>\n",
       "      <td>1244.0</td>\n",
       "      <td>acm9552</td>\n",
       "      <td>Silver Schl of Social Work UG</td>\n",
       "      <td>BS</td>\n",
       "      <td>Social Work</td>\n",
       "      <td>3.0</td>\n",
       "    </tr>\n",
       "    <tr>\n",
       "      <th>4</th>\n",
       "      <td>14835934</td>\n",
       "      <td>N16423976</td>\n",
       "      <td>Natalia</td>\n",
       "      <td>Alexandra</td>\n",
       "      <td>Kempthorne-Curiel</td>\n",
       "      <td>Natalia</td>\n",
       "      <td>NaN</td>\n",
       "      <td>Kempthorne-Curiel</td>\n",
       "      <td>1244</td>\n",
       "      <td>UARTS</td>\n",
       "      <td>...</td>\n",
       "      <td>nak9128@nyu.edu</td>\n",
       "      <td>Natalia</td>\n",
       "      <td>Kempthorne-Curiel</td>\n",
       "      <td>Natalia</td>\n",
       "      <td>1244.0</td>\n",
       "      <td>nak9128</td>\n",
       "      <td>Coll of Arts &amp; Science UG</td>\n",
       "      <td>BA</td>\n",
       "      <td>Environmental Studies</td>\n",
       "      <td>3.0</td>\n",
       "    </tr>\n",
       "    <tr>\n",
       "      <th>...</th>\n",
       "      <td>...</td>\n",
       "      <td>...</td>\n",
       "      <td>...</td>\n",
       "      <td>...</td>\n",
       "      <td>...</td>\n",
       "      <td>...</td>\n",
       "      <td>...</td>\n",
       "      <td>...</td>\n",
       "      <td>...</td>\n",
       "      <td>...</td>\n",
       "      <td>...</td>\n",
       "      <td>...</td>\n",
       "      <td>...</td>\n",
       "      <td>...</td>\n",
       "      <td>...</td>\n",
       "      <td>...</td>\n",
       "      <td>...</td>\n",
       "      <td>...</td>\n",
       "      <td>...</td>\n",
       "      <td>...</td>\n",
       "      <td>...</td>\n",
       "    </tr>\n",
       "    <tr>\n",
       "      <th>18242</th>\n",
       "      <td>10737405</td>\n",
       "      <td>N16241697</td>\n",
       "      <td>Stuart</td>\n",
       "      <td>Walter</td>\n",
       "      <td>Gold</td>\n",
       "      <td>Stuart</td>\n",
       "      <td>NaN</td>\n",
       "      <td>Gold</td>\n",
       "      <td>1238</td>\n",
       "      <td>GGALL</td>\n",
       "      <td>...</td>\n",
       "      <td>swg230@nyu.edu</td>\n",
       "      <td>Stuart</td>\n",
       "      <td>Gold</td>\n",
       "      <td>Stuart</td>\n",
       "      <td>1238.0</td>\n",
       "      <td>swg230</td>\n",
       "      <td>Gallatin Schl of Ind Study GR</td>\n",
       "      <td>MA</td>\n",
       "      <td>Individualized Study</td>\n",
       "      <td>3.0</td>\n",
       "    </tr>\n",
       "    <tr>\n",
       "      <th>18243</th>\n",
       "      <td>15127094</td>\n",
       "      <td>N14741933</td>\n",
       "      <td>Robert</td>\n",
       "      <td>Bruce</td>\n",
       "      <td>Merrell</td>\n",
       "      <td>R. Bruce</td>\n",
       "      <td>NaN</td>\n",
       "      <td>Merrell</td>\n",
       "      <td>1236</td>\n",
       "      <td>GCSCP</td>\n",
       "      <td>...</td>\n",
       "      <td>rbm9962@nyu.edu</td>\n",
       "      <td>Robert</td>\n",
       "      <td>Merrell</td>\n",
       "      <td>R. Bruce</td>\n",
       "      <td>1236.0</td>\n",
       "      <td>rbm9962</td>\n",
       "      <td>Schl of Prof Studies GR</td>\n",
       "      <td>MS</td>\n",
       "      <td>Exec Coaching &amp; Org Consulting</td>\n",
       "      <td>3.0</td>\n",
       "    </tr>\n",
       "    <tr>\n",
       "      <th>18244</th>\n",
       "      <td>10263855</td>\n",
       "      <td>N14980174</td>\n",
       "      <td>Anita</td>\n",
       "      <td>NaN</td>\n",
       "      <td>Pecorara</td>\n",
       "      <td>Anita</td>\n",
       "      <td>NaN</td>\n",
       "      <td>Pecorara</td>\n",
       "      <td>1244</td>\n",
       "      <td>GARTS</td>\n",
       "      <td>...</td>\n",
       "      <td>ap1516@nyu.edu</td>\n",
       "      <td>Anita</td>\n",
       "      <td>Pecorara</td>\n",
       "      <td>Anita</td>\n",
       "      <td>1244.0</td>\n",
       "      <td>ap1516</td>\n",
       "      <td>Grad Schl of Arts &amp; Science</td>\n",
       "      <td>CERT</td>\n",
       "      <td>Psychology: Psychthrpy/Psychan</td>\n",
       "      <td>3.0</td>\n",
       "    </tr>\n",
       "    <tr>\n",
       "      <th>18245</th>\n",
       "      <td>10782780</td>\n",
       "      <td>N17692006</td>\n",
       "      <td>Carolyn</td>\n",
       "      <td>Elizabeth</td>\n",
       "      <td>Bell</td>\n",
       "      <td>Carolyn</td>\n",
       "      <td>NaN</td>\n",
       "      <td>Bell</td>\n",
       "      <td>1244</td>\n",
       "      <td>UCMCG</td>\n",
       "      <td>...</td>\n",
       "      <td>ceb2087@nyu.edu</td>\n",
       "      <td>Carolyn</td>\n",
       "      <td>Bell</td>\n",
       "      <td>Carolyn</td>\n",
       "      <td>1244.0</td>\n",
       "      <td>ceb2087</td>\n",
       "      <td>Schl of Prof Studies UG</td>\n",
       "      <td>BA</td>\n",
       "      <td>Social Sciences</td>\n",
       "      <td>3.0</td>\n",
       "    </tr>\n",
       "    <tr>\n",
       "      <th>18246</th>\n",
       "      <td>15130477</td>\n",
       "      <td>N12081185</td>\n",
       "      <td>Paul</td>\n",
       "      <td>Melvin</td>\n",
       "      <td>Troop</td>\n",
       "      <td>Paul</td>\n",
       "      <td>NaN</td>\n",
       "      <td>Troop</td>\n",
       "      <td>1244</td>\n",
       "      <td>UCMCG</td>\n",
       "      <td>...</td>\n",
       "      <td>pmt9066@nyu.edu</td>\n",
       "      <td>Paul</td>\n",
       "      <td>Troop</td>\n",
       "      <td>Paul</td>\n",
       "      <td>1244.0</td>\n",
       "      <td>pmt9066</td>\n",
       "      <td>Schl of Prof Studies UG</td>\n",
       "      <td>BA</td>\n",
       "      <td>Social Sciences</td>\n",
       "      <td>3.0</td>\n",
       "    </tr>\n",
       "  </tbody>\n",
       "</table>\n",
       "<p>18247 rows × 67 columns</p>\n",
       "</div>"
      ],
      "text/plain": [
       "             id  campus_id primary_first primary_middle       primary_last  \\\n",
       "0      14950531  N13466877        Camila       Michelle            Mancebo   \n",
       "1      14790495  N18844886         Emily            NaN            Bustrum   \n",
       "2      14978305  N19244018            Io        Marcela     Manfredy Colon   \n",
       "3      14934014  N14582986         Aidan        Chapman                 Mo   \n",
       "4      14835934  N16423976       Natalia      Alexandra  Kempthorne-Curiel   \n",
       "...         ...        ...           ...            ...                ...   \n",
       "18242  10737405  N16241697        Stuart         Walter               Gold   \n",
       "18243  15127094  N14741933        Robert          Bruce            Merrell   \n",
       "18244  10263855  N14980174         Anita            NaN           Pecorara   \n",
       "18245  10782780  N17692006       Carolyn      Elizabeth               Bell   \n",
       "18246  15130477  N12081185          Paul         Melvin              Troop   \n",
       "\n",
       "      preferred_first_x preferred_middle     preferred_last  exp_grad  \\\n",
       "0                Camila              NaN            Mancebo      1244   \n",
       "1                 Emily            Paris            Bustrum      1244   \n",
       "2            Io Marcela              NaN     Manfredy Colon      1244   \n",
       "3                 Aidan              NaN                 Mo      1244   \n",
       "4               Natalia              NaN  Kempthorne-Curiel      1244   \n",
       "...                 ...              ...                ...       ...   \n",
       "18242            Stuart              NaN               Gold      1238   \n",
       "18243          R. Bruce              NaN            Merrell      1236   \n",
       "18244             Anita              NaN           Pecorara      1244   \n",
       "18245           Carolyn              NaN               Bell      1244   \n",
       "18246              Paul              NaN              Troop      1244   \n",
       "\n",
       "      acad_prog  ...           email_y first_name          last_name  \\\n",
       "0         UCMAA  ...  cmm10051@nyu.edu     Camila            Mancebo   \n",
       "1         UGALL  ...    eb4003@nyu.edu      Emily            Bustrum   \n",
       "2         UGALL  ...   imm7665@nyu.edu         Io     Manfredy Colon   \n",
       "3         USOCW  ...   acm9552@nyu.edu      Aidan                 Mo   \n",
       "4         UARTS  ...   nak9128@nyu.edu    Natalia  Kempthorne-Curiel   \n",
       "...         ...  ...               ...        ...                ...   \n",
       "18242     GGALL  ...    swg230@nyu.edu     Stuart               Gold   \n",
       "18243     GCSCP  ...   rbm9962@nyu.edu     Robert            Merrell   \n",
       "18244     GARTS  ...    ap1516@nyu.edu      Anita           Pecorara   \n",
       "18245     UCMCG  ...   ceb2087@nyu.edu    Carolyn               Bell   \n",
       "18246     UCMCG  ...   pmt9066@nyu.edu       Paul              Troop   \n",
       "\n",
       "      preferred_first_y department customer_id                       school_y  \\\n",
       "0                Camila     1244.0    cmm10051        Schl of Prof Studies UG   \n",
       "1                 Emily     1244.0      eb4003  Gallatin Schl of Ind Study UG   \n",
       "2            Io Marcela     1244.0     imm7665  Gallatin Schl of Ind Study UG   \n",
       "3                 Aidan     1244.0     acm9552  Silver Schl of Social Work UG   \n",
       "4               Natalia     1244.0     nak9128      Coll of Arts & Science UG   \n",
       "...                 ...        ...         ...                            ...   \n",
       "18242            Stuart     1238.0      swg230  Gallatin Schl of Ind Study GR   \n",
       "18243          R. Bruce     1236.0     rbm9962        Schl of Prof Studies GR   \n",
       "18244             Anita     1244.0      ap1516    Grad Schl of Arts & Science   \n",
       "18245           Carolyn     1244.0     ceb2087        Schl of Prof Studies UG   \n",
       "18246              Paul     1244.0     pmt9066        Schl of Prof Studies UG   \n",
       "\n",
       "      degree_y                     acad_plan_y region  \n",
       "0           AA                    Liberal Arts    3.0  \n",
       "1           BA            Individualized Major    3.0  \n",
       "2           BA            Individualized Major    3.0  \n",
       "3           BS                     Social Work    3.0  \n",
       "4           BA           Environmental Studies    3.0  \n",
       "...        ...                             ...    ...  \n",
       "18242       MA            Individualized Study    3.0  \n",
       "18243       MS  Exec Coaching & Org Consulting    3.0  \n",
       "18244     CERT  Psychology: Psychthrpy/Psychan    3.0  \n",
       "18245       BA                 Social Sciences    3.0  \n",
       "18246       BA                 Social Sciences    3.0  \n",
       "\n",
       "[18247 rows x 67 columns]"
      ]
     },
     "execution_count": 301,
     "metadata": {},
     "output_type": "execute_result"
    }
   ],
   "source": [
    "final_GR24"
   ]
  },
  {
   "cell_type": "code",
   "execution_count": 302,
   "metadata": {},
   "outputs": [
    {
     "data": {
      "text/plain": [
       "(2858, 67)"
      ]
     },
     "execution_count": 302,
     "metadata": {},
     "output_type": "execute_result"
    }
   ],
   "source": [
    "# Confirm the exact column names to join on\n",
    "\n",
    "# Now perform the inner join\n",
    "filtered_GR24 = final_GR24[final_GR24['acad_plan_x'].isin(Online_Program_df['acad_plan'])]\n",
    "\n",
    "# How many Student are in the online program\n",
    "filtered_GR24.shape\n"
   ]
  },
  {
   "cell_type": "markdown",
   "metadata": {},
   "source": [
    "What are thoese online program? "
   ]
  },
  {
   "cell_type": "code",
   "execution_count": 327,
   "metadata": {},
   "outputs": [
    {
     "data": {
      "text/plain": [
       "array(['GUUMPHMPH', 'GYIDMEMS', 'GYCYBSMS', 'GYMGTEMS', 'GCMASYMS',\n",
       "       'GYCPENMS', 'GYELENMS', 'GUYUMPMPH', 'GYINENMS', 'GCHOSPMS',\n",
       "       'GAAMJOMA', 'GACREAMFA', 'GCHRMDMS', 'GYBINFMS', 'GBBUSNMBA',\n",
       "       'GECSDMMS', 'GCGSCCMS', 'GEYCSDMS', 'GCEVMGMS', 'GCGLSOMS',\n",
       "       'GBQTMGMS', 'GCPRWRMS', 'GCTUMGMS', 'GCHCATMS', 'GCTRSCMS',\n",
       "       'GCPRMOMS', 'GPHEADMHA', 'GBGMMBMBAP', 'LWTAXNLLM', 'LWEXPTLLM',\n",
       "       'GCECOCMS', 'LYCYBRMS', 'LWTAPTLLM', 'GEYLINEDD', 'GEYOTHOTD',\n",
       "       'UCSOCOBA', 'LWTAXNMSL'], dtype=object)"
      ]
     },
     "execution_count": 327,
     "metadata": {},
     "output_type": "execute_result"
    }
   ],
   "source": [
    "# What online programs?\n",
    "filtered_GR24['acad_plan_x'].unique()"
   ]
  },
  {
   "cell_type": "markdown",
   "metadata": {},
   "source": [
    "How many online programs out of total? "
   ]
  },
  {
   "cell_type": "code",
   "execution_count": 328,
   "metadata": {},
   "outputs": [
    {
     "data": {
      "text/plain": [
       "37"
      ]
     },
     "execution_count": 328,
     "metadata": {},
     "output_type": "execute_result"
    }
   ],
   "source": [
    "# Number of online program? Total is 58\n",
    "filtered_GR24['acad_plan_x'].nunique()"
   ]
  },
  {
   "cell_type": "markdown",
   "metadata": {},
   "source": [
    "How many students are in the each program?"
   ]
  },
  {
   "cell_type": "code",
   "execution_count": 307,
   "metadata": {},
   "outputs": [
    {
     "data": {
      "text/plain": [
       "acad_plan_x\n",
       "GBGMMBMBAP    512\n",
       "GYCPENMS      431\n",
       "GYMGTEMS      301\n",
       "GYCYBSMS      244\n",
       "GUUMPHMPH     242\n",
       "GCMASYMS      168\n",
       "GEYCSDMS      106\n",
       "GYIDMEMS       83\n",
       "GACREAMFA      66\n",
       "GYELENMS       62\n",
       "LWTAXNLLM      54\n",
       "GCHRMDMS       54\n",
       "GYINENMS       47\n",
       "GBQTMGMS       38\n",
       "GUYUMPMPH      36\n",
       "GCEVMGMS       33\n",
       "GCGSCCMS       32\n",
       "GECSDMMS       31\n",
       "LYCYBRMS       30\n",
       "LWEXPTLLM      29\n",
       "GEYLINEDD      28\n",
       "GYBINFMS       27\n",
       "GCHOSPMS       25\n",
       "GPHEADMHA      21\n",
       "GBBUSNMBA      21\n",
       "GCPRMOMS       19\n",
       "GAAMJOMA       19\n",
       "GCPRWRMS       18\n",
       "GCTUMGMS       15\n",
       "GCTRSCMS       13\n",
       "LWTAPTLLM      13\n",
       "GCHCATMS       12\n",
       "GCECOCMS       12\n",
       "GEYOTHOTD       6\n",
       "GCGLSOMS        5\n",
       "UCSOCOBA        3\n",
       "LWTAXNMSL       2\n",
       "Name: count, dtype: int64"
      ]
     },
     "execution_count": 307,
     "metadata": {},
     "output_type": "execute_result"
    }
   ],
   "source": [
    "# How many students are in each program?\n",
    "filtered_GR24['acad_plan_x'].value_counts()"
   ]
  },
  {
   "cell_type": "markdown",
   "metadata": {},
   "source": [
    "## Ticketing \n",
    "How many students ordered tickets?\n",
    "Ticket Types?"
   ]
  },
  {
   "cell_type": "code",
   "execution_count": 321,
   "metadata": {},
   "outputs": [
    {
     "data": {
      "text/plain": [
       "(4219, 16)"
      ]
     },
     "execution_count": 321,
     "metadata": {},
     "output_type": "execute_result"
    }
   ],
   "source": [
    "# customer_id for CM25 and campus_id for CM23 and 45\n",
    "# \n",
    "TIX24_df = TIX24_df[TIX24_df['employee_id'].isin(filtered_GR24['campus_id'])]\n",
    "\n",
    "TIX24_df.shape"
   ]
  },
  {
   "cell_type": "markdown",
   "metadata": {},
   "source": [
    "Ticket Type\n",
    "\n",
    "CM23 doesn't have assignment "
   ]
  },
  {
   "cell_type": "code",
   "execution_count": 314,
   "metadata": {},
   "outputs": [],
   "source": [
    "# Remove rows where assignment is 'volunteer'\n",
    "TIX24_df = TIX24_df[~TIX24_df['ticket_notes'].str.lower().eq('univ guest suite').fillna(False)]"
   ]
  },
  {
   "cell_type": "code",
   "execution_count": 322,
   "metadata": {},
   "outputs": [
    {
     "name": "stdout",
     "output_type": "stream",
     "text": [
      "assignment\n",
      "Guest        2517\n",
      "Candidate    1698\n",
      "Other           4\n",
      "Name: count, dtype: int64\n"
     ]
    }
   ],
   "source": [
    "# What types of tickets we have and how many\n",
    "# assignment for CM24 & CM25\n",
    "# ticket_notes for CM23\n",
    "print(TIX24_df['assignment'].value_counts())"
   ]
  },
  {
   "cell_type": "code",
   "execution_count": null,
   "metadata": {},
   "outputs": [
    {
     "data": {
      "text/plain": [
       "3"
      ]
     },
     "execution_count": 140,
     "metadata": {},
     "output_type": "execute_result"
    }
   ],
   "source": [
    "\n",
    "# Keep only the first occurrence of each assignment per employee_id for CM24 \n",
    "# each ticket_notes per employee_id for CM23\n",
    "# No need for CM25\n",
    "unique_TIX25 = TIX25_df.drop_duplicates(subset=['employee_id', 'assignment'], keep='first')\n",
    "\n",
    "# Confirm max 3 assignments per employee\n",
    "unique_TIX25['employee_id'].value_counts().max()"
   ]
  },
  {
   "cell_type": "markdown",
   "metadata": {},
   "source": [
    "Merge two dfs in final one"
   ]
  },
  {
   "cell_type": "code",
   "execution_count": 323,
   "metadata": {},
   "outputs": [],
   "source": [
    "# Then merge on campus_id (from GR**) == employee_id (from TIX**)\n",
    "merged_df = pd.merge(\n",
    "    filtered_GR24,\n",
    "    TIX24_df,\n",
    "    left_on='campus_id',\n",
    "    right_on='employee_id',\n",
    "    how='inner'\n",
    ")"
   ]
  },
  {
   "cell_type": "code",
   "execution_count": 318,
   "metadata": {},
   "outputs": [
    {
     "name": "stdout",
     "output_type": "stream",
     "text": [
      "['id', 'campus_id', 'primary_first', 'primary_middle', 'primary_last', 'preferred_first_x', 'preferred_middle', 'preferred_last', 'exp_grad', 'acad_prog', 'school_x', 'descr', 'degree_x', 'descr.1', 'status', 'action_date', 'chkoutstat', 'acad_plan_x', 'descr.2', 'plan_type', 'hon_code', 'email_x', 'nyu_netid', 'perm_addr_1', 'perm_addr_2', 'perm_addr_3', 'perm_addr_4', 'perm_city', 'perm_state', 'perm_zip', 'perm_country', 'mail_addr_1', 'mail_addr_2', 'mail_addr_3', 'mail_addr_4', 'mail_city', 'mail_state', 'mail_zip', 'mail_country', 'dipl_addr_1', 'dipl_addr_2', 'dipl_addr_3', 'dipl_addr_4', 'dipl_city', 'dipl_state', 'dipl_zip', 'dipl_country', 'ferpa', 'career', 'acad_prog.1', 'srv_ind_cd', 'max_active_term', 'birthdate', 'date', 'file_type', 'change_type', 'employee_id_x', 'email_y', 'first_name', 'last_name', 'preferred_first_y', 'department', 'customer_id_x', 'school_y', 'degree_y', 'acad_plan_y', 'region', 'event_name', 'venue_attendee_name', 'attendee_email', 'venue_scan_location', 'venue_scan_time', 'invitee_name', 'invitee_email', 'employee_id_y', 'school', 'acad_plan', 'degree', 'assignment', 'customer_id_y', 'order_id', 'ticket_notes', 'order_status']\n"
     ]
    }
   ],
   "source": [
    "# See all column names\n",
    "print(merged_df.columns.tolist())\n"
   ]
  },
  {
   "cell_type": "code",
   "execution_count": 325,
   "metadata": {},
   "outputs": [],
   "source": [
    "# keeping all overlapping columns, just provide custom suffixes that don't conflict with existing names\n",
    "final_df = pd.merge(\n",
    "    merged_df,\n",
    "    Online_Program_df,\n",
    "    left_on='acad_plan_x',\n",
    "    right_on='acad_plan',\n",
    "    how='left',\n",
    "    suffixes=('_left', '_right')  # avoid _x/_y conflict\n",
    ")"
   ]
  },
  {
   "cell_type": "code",
   "execution_count": 324,
   "metadata": {},
   "outputs": [
    {
     "ename": "MergeError",
     "evalue": "Passing 'suffixes' which cause duplicate columns {'school_x', 'acad_plan_x'} is not allowed.",
     "output_type": "error",
     "traceback": [
      "\u001b[0;31m---------------------------------------------------------------------------\u001b[0m",
      "\u001b[0;31mMergeError\u001b[0m                                Traceback (most recent call last)",
      "Cell \u001b[0;32mIn[324], line 2\u001b[0m\n\u001b[1;32m      1\u001b[0m \u001b[38;5;66;03m# Final Merge, but I need to manually inspect\u001b[39;00m\n\u001b[0;32m----> 2\u001b[0m final_df \u001b[38;5;241m=\u001b[39m pd\u001b[38;5;241m.\u001b[39mmerge(\n\u001b[1;32m      3\u001b[0m     merged_df,\n\u001b[1;32m      4\u001b[0m     Online_Program_df,\n\u001b[1;32m      5\u001b[0m     left_on\u001b[38;5;241m=\u001b[39m\u001b[38;5;124m'\u001b[39m\u001b[38;5;124macad_plan_x\u001b[39m\u001b[38;5;124m'\u001b[39m,\n\u001b[1;32m      6\u001b[0m     right_on\u001b[38;5;241m=\u001b[39m\u001b[38;5;124m'\u001b[39m\u001b[38;5;124macad_plan\u001b[39m\u001b[38;5;124m'\u001b[39m,\n\u001b[1;32m      7\u001b[0m     how\u001b[38;5;241m=\u001b[39m\u001b[38;5;124m'\u001b[39m\u001b[38;5;124mleft\u001b[39m\u001b[38;5;124m'\u001b[39m\n\u001b[1;32m      8\u001b[0m )\n",
      "File \u001b[0;32m/opt/anaconda3/lib/python3.12/site-packages/pandas/core/reshape/merge.py:184\u001b[0m, in \u001b[0;36mmerge\u001b[0;34m(left, right, how, on, left_on, right_on, left_index, right_index, sort, suffixes, copy, indicator, validate)\u001b[0m\n\u001b[1;32m    169\u001b[0m \u001b[38;5;28;01melse\u001b[39;00m:\n\u001b[1;32m    170\u001b[0m     op \u001b[38;5;241m=\u001b[39m _MergeOperation(\n\u001b[1;32m    171\u001b[0m         left_df,\n\u001b[1;32m    172\u001b[0m         right_df,\n\u001b[0;32m   (...)\u001b[0m\n\u001b[1;32m    182\u001b[0m         validate\u001b[38;5;241m=\u001b[39mvalidate,\n\u001b[1;32m    183\u001b[0m     )\n\u001b[0;32m--> 184\u001b[0m     \u001b[38;5;28;01mreturn\u001b[39;00m op\u001b[38;5;241m.\u001b[39mget_result(copy\u001b[38;5;241m=\u001b[39mcopy)\n",
      "File \u001b[0;32m/opt/anaconda3/lib/python3.12/site-packages/pandas/core/reshape/merge.py:888\u001b[0m, in \u001b[0;36m_MergeOperation.get_result\u001b[0;34m(self, copy)\u001b[0m\n\u001b[1;32m    884\u001b[0m     \u001b[38;5;28mself\u001b[39m\u001b[38;5;241m.\u001b[39mleft, \u001b[38;5;28mself\u001b[39m\u001b[38;5;241m.\u001b[39mright \u001b[38;5;241m=\u001b[39m \u001b[38;5;28mself\u001b[39m\u001b[38;5;241m.\u001b[39m_indicator_pre_merge(\u001b[38;5;28mself\u001b[39m\u001b[38;5;241m.\u001b[39mleft, \u001b[38;5;28mself\u001b[39m\u001b[38;5;241m.\u001b[39mright)\n\u001b[1;32m    886\u001b[0m join_index, left_indexer, right_indexer \u001b[38;5;241m=\u001b[39m \u001b[38;5;28mself\u001b[39m\u001b[38;5;241m.\u001b[39m_get_join_info()\n\u001b[0;32m--> 888\u001b[0m result \u001b[38;5;241m=\u001b[39m \u001b[38;5;28mself\u001b[39m\u001b[38;5;241m.\u001b[39m_reindex_and_concat(\n\u001b[1;32m    889\u001b[0m     join_index, left_indexer, right_indexer, copy\u001b[38;5;241m=\u001b[39mcopy\n\u001b[1;32m    890\u001b[0m )\n\u001b[1;32m    891\u001b[0m result \u001b[38;5;241m=\u001b[39m result\u001b[38;5;241m.\u001b[39m__finalize__(\u001b[38;5;28mself\u001b[39m, method\u001b[38;5;241m=\u001b[39m\u001b[38;5;28mself\u001b[39m\u001b[38;5;241m.\u001b[39m_merge_type)\n\u001b[1;32m    893\u001b[0m \u001b[38;5;28;01mif\u001b[39;00m \u001b[38;5;28mself\u001b[39m\u001b[38;5;241m.\u001b[39mindicator:\n",
      "File \u001b[0;32m/opt/anaconda3/lib/python3.12/site-packages/pandas/core/reshape/merge.py:840\u001b[0m, in \u001b[0;36m_MergeOperation._reindex_and_concat\u001b[0;34m(self, join_index, left_indexer, right_indexer, copy)\u001b[0m\n\u001b[1;32m    837\u001b[0m left \u001b[38;5;241m=\u001b[39m \u001b[38;5;28mself\u001b[39m\u001b[38;5;241m.\u001b[39mleft[:]\n\u001b[1;32m    838\u001b[0m right \u001b[38;5;241m=\u001b[39m \u001b[38;5;28mself\u001b[39m\u001b[38;5;241m.\u001b[39mright[:]\n\u001b[0;32m--> 840\u001b[0m llabels, rlabels \u001b[38;5;241m=\u001b[39m _items_overlap_with_suffix(\n\u001b[1;32m    841\u001b[0m     \u001b[38;5;28mself\u001b[39m\u001b[38;5;241m.\u001b[39mleft\u001b[38;5;241m.\u001b[39m_info_axis, \u001b[38;5;28mself\u001b[39m\u001b[38;5;241m.\u001b[39mright\u001b[38;5;241m.\u001b[39m_info_axis, \u001b[38;5;28mself\u001b[39m\u001b[38;5;241m.\u001b[39msuffixes\n\u001b[1;32m    842\u001b[0m )\n\u001b[1;32m    844\u001b[0m \u001b[38;5;28;01mif\u001b[39;00m left_indexer \u001b[38;5;129;01mis\u001b[39;00m \u001b[38;5;129;01mnot\u001b[39;00m \u001b[38;5;28;01mNone\u001b[39;00m \u001b[38;5;129;01mand\u001b[39;00m \u001b[38;5;129;01mnot\u001b[39;00m is_range_indexer(left_indexer, \u001b[38;5;28mlen\u001b[39m(left)):\n\u001b[1;32m    845\u001b[0m     \u001b[38;5;66;03m# Pinning the index here (and in the right code just below) is not\u001b[39;00m\n\u001b[1;32m    846\u001b[0m     \u001b[38;5;66;03m#  necessary, but makes the `.take` more performant if we have e.g.\u001b[39;00m\n\u001b[1;32m    847\u001b[0m     \u001b[38;5;66;03m#  a MultiIndex for left.index.\u001b[39;00m\n\u001b[1;32m    848\u001b[0m     lmgr \u001b[38;5;241m=\u001b[39m left\u001b[38;5;241m.\u001b[39m_mgr\u001b[38;5;241m.\u001b[39mreindex_indexer(\n\u001b[1;32m    849\u001b[0m         join_index,\n\u001b[1;32m    850\u001b[0m         left_indexer,\n\u001b[0;32m   (...)\u001b[0m\n\u001b[1;32m    855\u001b[0m         use_na_proxy\u001b[38;5;241m=\u001b[39m\u001b[38;5;28;01mTrue\u001b[39;00m,\n\u001b[1;32m    856\u001b[0m     )\n",
      "File \u001b[0;32m/opt/anaconda3/lib/python3.12/site-packages/pandas/core/reshape/merge.py:2757\u001b[0m, in \u001b[0;36m_items_overlap_with_suffix\u001b[0;34m(left, right, suffixes)\u001b[0m\n\u001b[1;32m   2755\u001b[0m     dups\u001b[38;5;241m.\u001b[39mextend(rlabels[(rlabels\u001b[38;5;241m.\u001b[39mduplicated()) \u001b[38;5;241m&\u001b[39m (\u001b[38;5;241m~\u001b[39mright\u001b[38;5;241m.\u001b[39mduplicated())]\u001b[38;5;241m.\u001b[39mtolist())\n\u001b[1;32m   2756\u001b[0m \u001b[38;5;28;01mif\u001b[39;00m dups:\n\u001b[0;32m-> 2757\u001b[0m     \u001b[38;5;28;01mraise\u001b[39;00m MergeError(\n\u001b[1;32m   2758\u001b[0m         \u001b[38;5;124mf\u001b[39m\u001b[38;5;124m\"\u001b[39m\u001b[38;5;124mPassing \u001b[39m\u001b[38;5;124m'\u001b[39m\u001b[38;5;124msuffixes\u001b[39m\u001b[38;5;124m'\u001b[39m\u001b[38;5;124m which cause duplicate columns \u001b[39m\u001b[38;5;132;01m{\u001b[39;00m\u001b[38;5;28mset\u001b[39m(dups)\u001b[38;5;132;01m}\u001b[39;00m\u001b[38;5;124m is \u001b[39m\u001b[38;5;124m\"\u001b[39m\n\u001b[1;32m   2759\u001b[0m         \u001b[38;5;124mf\u001b[39m\u001b[38;5;124m\"\u001b[39m\u001b[38;5;124mnot allowed.\u001b[39m\u001b[38;5;124m\"\u001b[39m,\n\u001b[1;32m   2760\u001b[0m     )\n\u001b[1;32m   2762\u001b[0m \u001b[38;5;28;01mreturn\u001b[39;00m llabels, rlabels\n",
      "\u001b[0;31mMergeError\u001b[0m: Passing 'suffixes' which cause duplicate columns {'school_x', 'acad_plan_x'} is not allowed."
     ]
    }
   ],
   "source": [
    "# Final Merge, but I need to manually inspect\n",
    "final_df = pd.merge(\n",
    "    merged_df,\n",
    "    Online_Program_df,\n",
    "    left_on='acad_plan_x',\n",
    "    right_on='acad_plan',\n",
    "    how='left'\n",
    ")"
   ]
  },
  {
   "cell_type": "code",
   "execution_count": 326,
   "metadata": {},
   "outputs": [],
   "source": [
    "# Save as Excel. Don't forget change file name\n",
    "final_df.to_excel(\"CM24_Online_Tix.xlsx\", index=False)"
   ]
  },
  {
   "cell_type": "code",
   "execution_count": null,
   "metadata": {},
   "outputs": [],
   "source": []
  }
 ],
 "metadata": {
  "kernelspec": {
   "display_name": "base",
   "language": "python",
   "name": "python3"
  },
  "language_info": {
   "codemirror_mode": {
    "name": "ipython",
    "version": 3
   },
   "file_extension": ".py",
   "mimetype": "text/x-python",
   "name": "python",
   "nbconvert_exporter": "python",
   "pygments_lexer": "ipython3",
   "version": "3.12.2"
  }
 },
 "nbformat": 4,
 "nbformat_minor": 2
}
